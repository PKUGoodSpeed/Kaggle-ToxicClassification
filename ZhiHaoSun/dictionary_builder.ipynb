{
 "cells": [
  {
   "cell_type": "markdown",
   "metadata": {
    "_cell_guid": "91bc9f4c-9535-42bb-969d-80340840ef5f",
    "_uuid": "1d9358b4afbf4c53c8d90b83198c00628e979020"
   },
   "source": [
    "# Dictionary Builder\n",
    "\n",
    "In this notebook i extract key terms and phrases in each toxic comment category."
   ]
  },
  {
   "cell_type": "code",
   "execution_count": 1,
   "metadata": {
    "_cell_guid": "6f961a24-8ce0-4671-bd14-84077a802a53",
    "_uuid": "b11eb49ad9b57030d1bbf8729f72ce45ac600c26",
    "collapsed": true
   },
   "outputs": [],
   "source": [
    "import pandas as pd\n",
    "from rake_nltk import Rake\n",
    "import nltk\n",
    "\n",
    "df = pd.read_csv('train.csv')\n",
    "r = Rake()"
   ]
  },
  {
   "cell_type": "code",
   "execution_count": 3,
   "metadata": {
    "_cell_guid": "7f523ded-9393-4b60-abc2-c04891d729d2",
    "_uuid": "785789b0e4e8fe941dfec90dc544225af5046ed7"
   },
   "outputs": [
    {
     "data": {
      "text/html": [
       "<div>\n",
       "<style>\n",
       "    .dataframe thead tr:only-child th {\n",
       "        text-align: right;\n",
       "    }\n",
       "\n",
       "    .dataframe thead th {\n",
       "        text-align: left;\n",
       "    }\n",
       "\n",
       "    .dataframe tbody tr th {\n",
       "        vertical-align: top;\n",
       "    }\n",
       "</style>\n",
       "<table border=\"1\" class=\"dataframe\">\n",
       "  <thead>\n",
       "    <tr style=\"text-align: right;\">\n",
       "      <th></th>\n",
       "      <th>id</th>\n",
       "      <th>comment_text</th>\n",
       "      <th>toxic</th>\n",
       "      <th>severe_toxic</th>\n",
       "      <th>obscene</th>\n",
       "      <th>threat</th>\n",
       "      <th>insult</th>\n",
       "      <th>identity_hate</th>\n",
       "    </tr>\n",
       "  </thead>\n",
       "  <tbody>\n",
       "    <tr>\n",
       "      <th>0</th>\n",
       "      <td>0000997932d777bf</td>\n",
       "      <td>Explanation\\nWhy the edits made under my usern...</td>\n",
       "      <td>0</td>\n",
       "      <td>0</td>\n",
       "      <td>0</td>\n",
       "      <td>0</td>\n",
       "      <td>0</td>\n",
       "      <td>0</td>\n",
       "    </tr>\n",
       "    <tr>\n",
       "      <th>1</th>\n",
       "      <td>000103f0d9cfb60f</td>\n",
       "      <td>D'aww! He matches this background colour I'm s...</td>\n",
       "      <td>0</td>\n",
       "      <td>0</td>\n",
       "      <td>0</td>\n",
       "      <td>0</td>\n",
       "      <td>0</td>\n",
       "      <td>0</td>\n",
       "    </tr>\n",
       "    <tr>\n",
       "      <th>2</th>\n",
       "      <td>000113f07ec002fd</td>\n",
       "      <td>Hey man, I'm really not trying to edit war. It...</td>\n",
       "      <td>0</td>\n",
       "      <td>0</td>\n",
       "      <td>0</td>\n",
       "      <td>0</td>\n",
       "      <td>0</td>\n",
       "      <td>0</td>\n",
       "    </tr>\n",
       "    <tr>\n",
       "      <th>3</th>\n",
       "      <td>0001b41b1c6bb37e</td>\n",
       "      <td>\"\\nMore\\nI can't make any real suggestions on ...</td>\n",
       "      <td>0</td>\n",
       "      <td>0</td>\n",
       "      <td>0</td>\n",
       "      <td>0</td>\n",
       "      <td>0</td>\n",
       "      <td>0</td>\n",
       "    </tr>\n",
       "    <tr>\n",
       "      <th>4</th>\n",
       "      <td>0001d958c54c6e35</td>\n",
       "      <td>You, sir, are my hero. Any chance you remember...</td>\n",
       "      <td>0</td>\n",
       "      <td>0</td>\n",
       "      <td>0</td>\n",
       "      <td>0</td>\n",
       "      <td>0</td>\n",
       "      <td>0</td>\n",
       "    </tr>\n",
       "  </tbody>\n",
       "</table>\n",
       "</div>"
      ],
      "text/plain": [
       "                 id                                       comment_text  toxic  \\\n",
       "0  0000997932d777bf  Explanation\\nWhy the edits made under my usern...      0   \n",
       "1  000103f0d9cfb60f  D'aww! He matches this background colour I'm s...      0   \n",
       "2  000113f07ec002fd  Hey man, I'm really not trying to edit war. It...      0   \n",
       "3  0001b41b1c6bb37e  \"\\nMore\\nI can't make any real suggestions on ...      0   \n",
       "4  0001d958c54c6e35  You, sir, are my hero. Any chance you remember...      0   \n",
       "\n",
       "   severe_toxic  obscene  threat  insult  identity_hate  \n",
       "0             0        0       0       0              0  \n",
       "1             0        0       0       0              0  \n",
       "2             0        0       0       0              0  \n",
       "3             0        0       0       0              0  \n",
       "4             0        0       0       0              0  "
      ]
     },
     "execution_count": 3,
     "metadata": {},
     "output_type": "execute_result"
    }
   ],
   "source": [
    "df.head()"
   ]
  },
  {
   "cell_type": "code",
   "execution_count": 2,
   "metadata": {
    "collapsed": true
   },
   "outputs": [],
   "source": [
    "all_toxic_df = df[(df['toxic'] + df['severe_toxic'] + df['obscene'] + df['threat'] + df['insult'] + df['identity_hate'] > 0)]"
   ]
  },
  {
   "cell_type": "code",
   "execution_count": 3,
   "metadata": {
    "collapsed": true
   },
   "outputs": [],
   "source": [
    "toxic_df = df[(df['toxic']> 0)]"
   ]
  },
  {
   "cell_type": "code",
   "execution_count": 4,
   "metadata": {},
   "outputs": [
    {
     "data": {
      "text/html": [
       "<div>\n",
       "<style>\n",
       "    .dataframe thead tr:only-child th {\n",
       "        text-align: right;\n",
       "    }\n",
       "\n",
       "    .dataframe thead th {\n",
       "        text-align: left;\n",
       "    }\n",
       "\n",
       "    .dataframe tbody tr th {\n",
       "        vertical-align: top;\n",
       "    }\n",
       "</style>\n",
       "<table border=\"1\" class=\"dataframe\">\n",
       "  <thead>\n",
       "    <tr style=\"text-align: right;\">\n",
       "      <th></th>\n",
       "      <th>id</th>\n",
       "      <th>comment_text</th>\n",
       "      <th>toxic</th>\n",
       "      <th>severe_toxic</th>\n",
       "      <th>obscene</th>\n",
       "      <th>threat</th>\n",
       "      <th>insult</th>\n",
       "      <th>identity_hate</th>\n",
       "    </tr>\n",
       "  </thead>\n",
       "  <tbody>\n",
       "    <tr>\n",
       "      <th>6</th>\n",
       "      <td>0002bcb3da6cb337</td>\n",
       "      <td>COCKSUCKER BEFORE YOU PISS AROUND ON MY WORK</td>\n",
       "      <td>1</td>\n",
       "      <td>1</td>\n",
       "      <td>1</td>\n",
       "      <td>0</td>\n",
       "      <td>1</td>\n",
       "      <td>0</td>\n",
       "    </tr>\n",
       "    <tr>\n",
       "      <th>12</th>\n",
       "      <td>0005c987bdfc9d4b</td>\n",
       "      <td>Hey... what is it..\\n@ | talk .\\nWhat is it......</td>\n",
       "      <td>1</td>\n",
       "      <td>0</td>\n",
       "      <td>0</td>\n",
       "      <td>0</td>\n",
       "      <td>0</td>\n",
       "      <td>0</td>\n",
       "    </tr>\n",
       "    <tr>\n",
       "      <th>16</th>\n",
       "      <td>0007e25b2121310b</td>\n",
       "      <td>Bye! \\n\\nDon't look, come or think of comming ...</td>\n",
       "      <td>1</td>\n",
       "      <td>0</td>\n",
       "      <td>0</td>\n",
       "      <td>0</td>\n",
       "      <td>0</td>\n",
       "      <td>0</td>\n",
       "    </tr>\n",
       "    <tr>\n",
       "      <th>42</th>\n",
       "      <td>001810bf8c45bf5f</td>\n",
       "      <td>You are gay or antisemmitian? \\n\\nArchangel WH...</td>\n",
       "      <td>1</td>\n",
       "      <td>0</td>\n",
       "      <td>1</td>\n",
       "      <td>0</td>\n",
       "      <td>1</td>\n",
       "      <td>1</td>\n",
       "    </tr>\n",
       "    <tr>\n",
       "      <th>43</th>\n",
       "      <td>00190820581d90ce</td>\n",
       "      <td>FUCK YOUR FILTHY MOTHER IN THE ASS, DRY!</td>\n",
       "      <td>1</td>\n",
       "      <td>0</td>\n",
       "      <td>1</td>\n",
       "      <td>0</td>\n",
       "      <td>1</td>\n",
       "      <td>0</td>\n",
       "    </tr>\n",
       "  </tbody>\n",
       "</table>\n",
       "</div>"
      ],
      "text/plain": [
       "                  id                                       comment_text  \\\n",
       "6   0002bcb3da6cb337       COCKSUCKER BEFORE YOU PISS AROUND ON MY WORK   \n",
       "12  0005c987bdfc9d4b  Hey... what is it..\\n@ | talk .\\nWhat is it......   \n",
       "16  0007e25b2121310b  Bye! \\n\\nDon't look, come or think of comming ...   \n",
       "42  001810bf8c45bf5f  You are gay or antisemmitian? \\n\\nArchangel WH...   \n",
       "43  00190820581d90ce           FUCK YOUR FILTHY MOTHER IN THE ASS, DRY!   \n",
       "\n",
       "    toxic  severe_toxic  obscene  threat  insult  identity_hate  \n",
       "6       1             1        1       0       1              0  \n",
       "12      1             0        0       0       0              0  \n",
       "16      1             0        0       0       0              0  \n",
       "42      1             0        1       0       1              1  \n",
       "43      1             0        1       0       1              0  "
      ]
     },
     "execution_count": 4,
     "metadata": {},
     "output_type": "execute_result"
    }
   ],
   "source": [
    "toxic_df.head()"
   ]
  },
  {
   "cell_type": "code",
   "execution_count": 5,
   "metadata": {
    "collapsed": true
   },
   "outputs": [],
   "source": [
    "r.extract_keywords_from_text(toxic_df['comment_text'].str.cat(sep='\\n'))"
   ]
  },
  {
   "cell_type": "code",
   "execution_count": 6,
   "metadata": {
    "collapsed": true
   },
   "outputs": [],
   "source": [
    "keywords = [(v, k) for k,v in r.get_word_frequency_distribution().items() if v > 10 and k.isalpha()]\n",
    "    # output top terms\n",
    "    with open('toxic_words.txt', 'w') as fp:\n",
    "        for tup in keywords:\n",
    "            fp.write(tup[1] + ' - ' + str(tup[0]) + '\\n')"
   ]
  },
  {
   "cell_type": "code",
   "execution_count": 7,
   "metadata": {
    "collapsed": true
   },
   "outputs": [],
   "source": [
    "# rake return list of tuples, phrase[0] is score of importance, phrase[1] is key phrase string \n",
    "toxic_top_phrases = [(phrase[0], phrase[1]) for phrase in r.get_ranked_phrases_with_scores() if len(phrase[1].split(' ')) < 5 and phrase[0] > 10]\n",
    "with open('toxic_phrases.txt', 'w') as fp:\n",
    "    for phrase in toxic_top_phrases:\n",
    "        fp.write(phrase[1]+ ' - ' + str(phrase[0]) + '\\n')"
   ]
  },
  {
   "cell_type": "code",
   "execution_count": 11,
   "metadata": {},
   "outputs": [
    {
     "data": {
      "text/plain": [
       "[(2739.435056746532, 'die die die'),\n",
       " (2438.8936170212764, 'faggot faggot faggot faggot'),\n",
       " (2269.0033928083535, 'big fat fucking pig'),\n",
       " (2268.1943903752635, 'fucking fat pig shemale'),\n",
       " (2267.086970734449, 'hideously ugly fat pig'),\n",
       " (2260.5385836376745, 'fat pig'),\n",
       " (2124.5872327247976, 'super jew'),\n",
       " (2053.355413340261, 'jew fag gabe'),\n",
       " (2039.109764147298, 'suck donkey balls fag'),\n",
       " (2003.0016345211643, 'fucking faggot jew fuck'),\n",
       " (1966.6960961228192, 'really big fat fag'),\n",
       " (1856.933236575439, 'jew moron actually thought'),\n",
       " (1832.2900378310214, 'die muhajirs die muhajirs'),\n",
       " (1830.0738216148052, 'die whore die'),\n",
       " (1811.0721907741595, 'huge fat fucking loser'),\n",
       " (1804.9788983000421, 'fucking ignorant pig shit'),\n",
       " (1801.9417101810718, 'pig looks scary shit'),\n",
       " (1796.0528212921831, 'pig shit'),\n",
       " (1776.324409325575, 'shit jew yes'),\n",
       " (1760.5352841245474, 'jasenm222 sucks fat dick')]"
      ]
     },
     "execution_count": 11,
     "metadata": {},
     "output_type": "execute_result"
    }
   ],
   "source": [
    "toxic_top_phrases[:20]"
   ]
  },
  {
   "cell_type": "code",
   "execution_count": 9,
   "metadata": {
    "collapsed": true
   },
   "outputs": [],
   "source": [
    "severe_toxic_df = df[(df['severe_toxic']> 0)]"
   ]
  },
  {
   "cell_type": "code",
   "execution_count": 10,
   "metadata": {
    "_cell_guid": "5fa2b473-f6b9-4564-9889-78d14ba88d23",
    "_uuid": "09d66504f7abeb475a833d58421e39008c486832"
   },
   "outputs": [
    {
     "data": {
      "text/html": [
       "<div>\n",
       "<style>\n",
       "    .dataframe thead tr:only-child th {\n",
       "        text-align: right;\n",
       "    }\n",
       "\n",
       "    .dataframe thead th {\n",
       "        text-align: left;\n",
       "    }\n",
       "\n",
       "    .dataframe tbody tr th {\n",
       "        vertical-align: top;\n",
       "    }\n",
       "</style>\n",
       "<table border=\"1\" class=\"dataframe\">\n",
       "  <thead>\n",
       "    <tr style=\"text-align: right;\">\n",
       "      <th></th>\n",
       "      <th>id</th>\n",
       "      <th>comment_text</th>\n",
       "      <th>toxic</th>\n",
       "      <th>severe_toxic</th>\n",
       "      <th>obscene</th>\n",
       "      <th>threat</th>\n",
       "      <th>insult</th>\n",
       "      <th>identity_hate</th>\n",
       "    </tr>\n",
       "  </thead>\n",
       "  <tbody>\n",
       "    <tr>\n",
       "      <th>6</th>\n",
       "      <td>0002bcb3da6cb337</td>\n",
       "      <td>COCKSUCKER BEFORE YOU PISS AROUND ON MY WORK</td>\n",
       "      <td>1</td>\n",
       "      <td>1</td>\n",
       "      <td>1</td>\n",
       "      <td>0</td>\n",
       "      <td>1</td>\n",
       "      <td>0</td>\n",
       "    </tr>\n",
       "    <tr>\n",
       "      <th>55</th>\n",
       "      <td>0020e7119b96eeeb</td>\n",
       "      <td>Stupid peace of shit stop deleting my stuff as...</td>\n",
       "      <td>1</td>\n",
       "      <td>1</td>\n",
       "      <td>1</td>\n",
       "      <td>0</td>\n",
       "      <td>1</td>\n",
       "      <td>0</td>\n",
       "    </tr>\n",
       "    <tr>\n",
       "      <th>181</th>\n",
       "      <td>006e87872c8b370c</td>\n",
       "      <td>you are a stupid fuck \\n\\nand your mother's cu...</td>\n",
       "      <td>1</td>\n",
       "      <td>1</td>\n",
       "      <td>1</td>\n",
       "      <td>0</td>\n",
       "      <td>1</td>\n",
       "      <td>0</td>\n",
       "    </tr>\n",
       "    <tr>\n",
       "      <th>442</th>\n",
       "      <td>01208d2b76624130</td>\n",
       "      <td>Hi \\n\\nIm a fucking bitch.\\n\\n50.180.208.181</td>\n",
       "      <td>1</td>\n",
       "      <td>1</td>\n",
       "      <td>1</td>\n",
       "      <td>0</td>\n",
       "      <td>1</td>\n",
       "      <td>0</td>\n",
       "    </tr>\n",
       "    <tr>\n",
       "      <th>579</th>\n",
       "      <td>018663f910e0bfe6</td>\n",
       "      <td>What a motherfucking piece of crap those fuckh...</td>\n",
       "      <td>1</td>\n",
       "      <td>1</td>\n",
       "      <td>1</td>\n",
       "      <td>0</td>\n",
       "      <td>1</td>\n",
       "      <td>0</td>\n",
       "    </tr>\n",
       "  </tbody>\n",
       "</table>\n",
       "</div>"
      ],
      "text/plain": [
       "                   id                                       comment_text  \\\n",
       "6    0002bcb3da6cb337       COCKSUCKER BEFORE YOU PISS AROUND ON MY WORK   \n",
       "55   0020e7119b96eeeb  Stupid peace of shit stop deleting my stuff as...   \n",
       "181  006e87872c8b370c  you are a stupid fuck \\n\\nand your mother's cu...   \n",
       "442  01208d2b76624130       Hi \\n\\nIm a fucking bitch.\\n\\n50.180.208.181   \n",
       "579  018663f910e0bfe6  What a motherfucking piece of crap those fuckh...   \n",
       "\n",
       "     toxic  severe_toxic  obscene  threat  insult  identity_hate  \n",
       "6        1             1        1       0       1              0  \n",
       "55       1             1        1       0       1              0  \n",
       "181      1             1        1       0       1              0  \n",
       "442      1             1        1       0       1              0  \n",
       "579      1             1        1       0       1              0  "
      ]
     },
     "execution_count": 10,
     "metadata": {},
     "output_type": "execute_result"
    }
   ],
   "source": [
    "severe_toxic_df.head()"
   ]
  },
  {
   "cell_type": "code",
   "execution_count": 12,
   "metadata": {
    "collapsed": true
   },
   "outputs": [],
   "source": [
    "r = Rake()\n",
    "r.extract_keywords_from_text(severe_toxic_df['comment_text'].str.cat(sep='\\n'))"
   ]
  },
  {
   "cell_type": "code",
   "execution_count": 13,
   "metadata": {
    "collapsed": true
   },
   "outputs": [],
   "source": [
    "keywords = [(v, k) for k,v in r.get_word_frequency_distribution().items() if v > 10 and k.isalpha()]\n",
    "    # output top terms\n",
    "    with open('severe_toxic_words.txt', 'w') as fp:\n",
    "        for tup in keywords:\n",
    "            fp.write(tup[1] + ' - ' + str(tup[0]) + '\\n')"
   ]
  },
  {
   "cell_type": "code",
   "execution_count": 16,
   "metadata": {
    "collapsed": true
   },
   "outputs": [],
   "source": [
    "# rake return list of tuples, phrase[0] is score of importance, phrase[1] is key phrase string \n",
    "severe_toxic_top_phrases = [(phrase[0], phrase[1]) for phrase in r.get_ranked_phrases_with_scores() if len(phrase[1].split(' ')) < 5 and phrase[0] > 10]\n",
    "with open('severe_toxic_phrases.txt', 'w') as fp:\n",
    "    for phrase in severe_toxic_top_phrases:\n",
    "        fp.write(phrase[1]+ ' - ' + str(phrase[0]) + '\\n')"
   ]
  },
  {
   "cell_type": "code",
   "execution_count": 17,
   "metadata": {},
   "outputs": [
    {
     "data": {
      "text/plain": [
       "[(2449.0645939849014, 'shit die whore die'),\n",
       " (2350.828235294118, 'die die die'),\n",
       " (2098.7679804445133, 'small penis faggot'),\n",
       " (1903.5527470056495, 'shit fuck u rape'),\n",
       " (1571.1003338892228, 'shit faggot'),\n",
       " (1496.0659355423077, 'dick shit cock fuck'),\n",
       " (1494.9930074565036, 'die faggot'),\n",
       " (1493.6498360045985, 'huge penis'),\n",
       " (1444.7491506629572, 'shit go suck'),\n",
       " (1428.524344461407, 'shit suck'),\n",
       " (1390.3843847527155, 'small penis closedmouth'),\n",
       " (1387.3843847527155, 'small penis'),\n",
       " (1284.69120195578, 'nerd faggot suck'),\n",
       " (1283.706991429464, 'suck dick faggot'),\n",
       " (1282.9604327250106, 'suck faggot assholes'),\n",
       " (1273.7459914324002, 'big nigger dick shit'),\n",
       " (1270.4055659004853, 'nigger dick shit'),\n",
       " (1266.889776426801, 'nigger shit'),\n",
       " (1262.21681273529, 'shit jforget fuck shut'),\n",
       " (1260.349858814299, 'suck ur penis')]"
      ]
     },
     "execution_count": 17,
     "metadata": {},
     "output_type": "execute_result"
    }
   ],
   "source": [
    "severe_toxic_top_phrases[:20]"
   ]
  },
  {
   "cell_type": "code",
   "execution_count": 28,
   "metadata": {
    "collapsed": true
   },
   "outputs": [],
   "source": [
    "def extract_terms_and_phrases(category, df):\n",
    "    sub_df = df[(df[category]> 0)]\n",
    "    r = Rake()\n",
    "    r.extract_keywords_from_text(sub_df['comment_text'].str.cat(sep='\\n'))\n",
    "    keywords = [(v, k) for k,v in r.get_word_frequency_distribution().items() if v > 10 and k.isalpha()]\n",
    "    # output top terms\n",
    "    with open(category + '_words.txt', 'w') as fp:\n",
    "        for tup in keywords:\n",
    "            fp.write(tup[1] + ' - ' + str(tup[0]) + '\\n')\n",
    "    \n",
    "    # output top phrases\n",
    "    top_phrases = [(phrase[0], phrase[1]) for phrase in r.get_ranked_phrases_with_scores() if len(phrase[1].split(' ')) < 5 and phrase[0] > 10]\n",
    "    with open(category + '_phrases.txt', 'w') as fp:\n",
    "        for phrase in top_phrases:\n",
    "            fp.write(phrase[1]+ ' - ' + str(phrase[0]) + '\\n')\n",
    "    \n",
    "    return keywords, top_phrases"
   ]
  },
  {
   "cell_type": "code",
   "execution_count": 29,
   "metadata": {},
   "outputs": [],
   "source": [
    "keywords, top_phrases = extract_terms_and_phrases('insult', df)"
   ]
  },
  {
   "cell_type": "code",
   "execution_count": 30,
   "metadata": {},
   "outputs": [
    {
     "data": {
      "text/plain": [
       "[(29, 'low'),\n",
       " (34, 'jews'),\n",
       " (57, 'nerd'),\n",
       " (12, 'mah'),\n",
       " (26, 'fucken'),\n",
       " (46, 'source'),\n",
       " (14, 'headed'),\n",
       " (11, 'mighty'),\n",
       " (12, 'cracker'),\n",
       " (24, 'keeps'),\n",
       " (18, 'shall'),\n",
       " (88, 'delete'),\n",
       " (30, 'joke'),\n",
       " (40, 'going'),\n",
       " (17, 'garbage'),\n",
       " (25, 'wales'),\n",
       " (15, 'spend'),\n",
       " (15, 'paul'),\n",
       " (65, 'need'),\n",
       " (20, 'major')]"
      ]
     },
     "execution_count": 30,
     "metadata": {},
     "output_type": "execute_result"
    }
   ],
   "source": [
    "keywords[:20]"
   ]
  },
  {
   "cell_type": "code",
   "execution_count": 31,
   "metadata": {},
   "outputs": [
    {
     "data": {
      "text/plain": [
       "[(2535.9940915805023, 'faggot faggot faggot faggot'),\n",
       " (2223.2569521690766, 'die die die'),\n",
       " (2093.5605491930146, 'fucking faggot jew fuck'),\n",
       " (1875.7436733165673, 'small penis faggot'),\n",
       " (1836.4070398131432, 'jasenm222 sucks fat dick'),\n",
       " (1732.0423864427266, 'big fat faggot'),\n",
       " (1705.3938835234467, 'u fat penis'),\n",
       " (1587.5276235497126, 'cunt nigger faggot'),\n",
       " (1510.324240713363, 'small penis fuck'),\n",
       " (1497.328869047619, 'hi gaybo hi'),\n",
       " (1494.328869047619, 'hi hi'),\n",
       " (1492.469127329352, 'fucking fat ugly cunt'),\n",
       " (1491.2558991349522, 'fat cunt prevention board'),\n",
       " (1490.84820682726, 'ugly fat cunt ===='),\n",
       " (1490.5081644626894, 'big fat cunt .\"\"'),\n",
       " (1490.0660795206045, 'big fat cunt !\"'),\n",
       " (1488.6401539050676, '75 die whore die'),\n",
       " (1488.5306657908905, 'fat fucking cunt'),\n",
       " (1488.171301446051, 'die muhajirs die muhajirs'),\n",
       " (1487.84820682726, 'ugly fat cunt')]"
      ]
     },
     "execution_count": 31,
     "metadata": {},
     "output_type": "execute_result"
    }
   ],
   "source": [
    "top_phrases[:20]"
   ]
  },
  {
   "cell_type": "code",
   "execution_count": 32,
   "metadata": {
    "collapsed": true
   },
   "outputs": [],
   "source": [
    "keywords, top_phrases = extract_terms_and_phrases('obscene', df)"
   ]
  },
  {
   "cell_type": "code",
   "execution_count": 33,
   "metadata": {},
   "outputs": [
    {
     "data": {
      "text/plain": [
       "[(31, 'jews'),\n",
       " (12, 'mah'),\n",
       " (30, 'fucken'),\n",
       " (55, 'source'),\n",
       " (11, 'cracker'),\n",
       " (88, 'delete'),\n",
       " (32, 'joke'),\n",
       " (11, 'fred'),\n",
       " (13, 'spend'),\n",
       " (16, 'whose'),\n",
       " (20, 'fight'),\n",
       " (256, 'hey'),\n",
       " (12, 'defending'),\n",
       " (14, 'trolling'),\n",
       " (78, 'editors'),\n",
       " (644, 'faggot'),\n",
       " (17, 'wish'),\n",
       " (57, 'account'),\n",
       " (15, 'beat'),\n",
       " (30, 'hope')]"
      ]
     },
     "execution_count": 33,
     "metadata": {},
     "output_type": "execute_result"
    }
   ],
   "source": [
    "keywords[:20]"
   ]
  },
  {
   "cell_type": "code",
   "execution_count": 34,
   "metadata": {},
   "outputs": [
    {
     "data": {
      "text/plain": [
       "[(2196.5874587458748, 'die die die'),\n",
       " (2168.080745341615, 'faggot faggot faggot faggot'),\n",
       " (1906.8921940093524, 'fucking faggot jew fuck'),\n",
       " (1767.6254225597972, 'shit jew'),\n",
       " (1711.1500510500073, 'small penis faggot'),\n",
       " (1674.5814186308887, 'jasenm222 sucks fat dick'),\n",
       " (1626.4285068411812, 'fat shit douchebag'),\n",
       " (1537.5125890214954, 'big fat faggot'),\n",
       " (1509.7131690451804, 'u fat penis'),\n",
       " (1470.3916391639164, 'die muhajirs die muhajirs'),\n",
       " (1468.2855785578558, 'die whore die'),\n",
       " (1451.100057320578, 'big nigger dick shit'),\n",
       " (1446.4859268857954, 'nigger dick shit'),\n",
       " (1409.2662257999414, 'cunt nigger faggot'),\n",
       " (1401.1546078075762, 'horse shit faggot fuck'),\n",
       " (1393.047308586222, 'suck fat'),\n",
       " (1363.8889113146874, 'shit die'),\n",
       " (1362.3004500734437, 'huge faggots'),\n",
       " (1359.8112451080733, 'fucking fat ugly cunt'),\n",
       " (1359.4462313339686, 'ugly fat cunt aget')]"
      ]
     },
     "execution_count": 34,
     "metadata": {},
     "output_type": "execute_result"
    }
   ],
   "source": [
    "top_phrases[:20]"
   ]
  },
  {
   "cell_type": "code",
   "execution_count": 35,
   "metadata": {
    "collapsed": true
   },
   "outputs": [],
   "source": [
    "keywords, top_phrases = extract_terms_and_phrases('threat', df)"
   ]
  },
  {
   "cell_type": "code",
   "execution_count": 36,
   "metadata": {},
   "outputs": [
    {
     "data": {
      "text/plain": [
       "[(13, 'ill'),\n",
       " (49, 'fuck'),\n",
       " (11, 'hey'),\n",
       " (11, 'loser'),\n",
       " (16, 'fuckin'),\n",
       " (869, 'die'),\n",
       " (19, 'faggot'),\n",
       " (36, 'kill'),\n",
       " (13, 'things'),\n",
       " (34, 'bitch'),\n",
       " (15, 'dick'),\n",
       " (14, 'day'),\n",
       " (29, 'shit'),\n",
       " (13, 'every'),\n",
       " (15, 'come'),\n",
       " (125, 'fucking'),\n",
       " (18, 'time'),\n",
       " (22, 'little'),\n",
       " (13, 'big'),\n",
       " (13, 'never')]"
      ]
     },
     "execution_count": 36,
     "metadata": {},
     "output_type": "execute_result"
    }
   ],
   "source": [
    "keywords[:20]"
   ]
  },
  {
   "cell_type": "code",
   "execution_count": 37,
   "metadata": {},
   "outputs": [
    {
     "data": {
      "text/plain": [
       "[(2299.9677790563865, 'die die die'),\n",
       " (1539.3118527042577, 'die muhajirs die muhajirs'),\n",
       " (894.0769230769231, 'di'),\n",
       " (817.2875052994973, 'die faggot'),\n",
       " (796.0232732909044, 'auschwitz fuck entente die'),\n",
       " (780.1997445339471, 'go fucking die'),\n",
       " (779.1012596854622, 'better fucking die'),\n",
       " (779.0679263521289, 'shall fucking die'),\n",
       " (778.1559263521289, 'die nicholas brybon hi'),\n",
       " (777.1559263521289,\n",
       "  'warned teeeccccctooooniiiiiiiicccccc shhhhhiiiiiiiifffffffftttttttt die'),\n",
       " (776.8298393956071, 'seriously die caus u'),\n",
       " (776.8225930187955, 'die .......... wikistalking unless'),\n",
       " (776.7679263521288, 'fucking die'),\n",
       " (776.746835443038, 'last withering beats die'),\n",
       " (776.3225930187955, 'wish yuo wood die'),\n",
       " (775.5515307477333, 'asshole die im going'),\n",
       " (774.6559263521289, 'liberal faggots die'),\n",
       " (773.9885055376492, 'asshole ... die'),\n",
       " (772.9131727289405, 'hope u die'),\n",
       " (772.7348033574765, 'cunt go die')]"
      ]
     },
     "execution_count": 37,
     "metadata": {},
     "output_type": "execute_result"
    }
   ],
   "source": [
    "top_phrases[:20]"
   ]
  },
  {
   "cell_type": "code",
   "execution_count": 38,
   "metadata": {
    "collapsed": true
   },
   "outputs": [],
   "source": [
    "keywords, top_phrases = extract_terms_and_phrases('identity_hate', df)"
   ]
  },
  {
   "cell_type": "code",
   "execution_count": 39,
   "metadata": {},
   "outputs": [
    {
     "data": {
      "text/plain": [
       "[(50, 'jews'),\n",
       " (11, 'nerd'),\n",
       " (12, 'seriously'),\n",
       " (18, 'delete'),\n",
       " (15, 'men'),\n",
       " (53, 'hey'),\n",
       " (22, 'loser'),\n",
       " (41, 'fuckin'),\n",
       " (11, 'feel'),\n",
       " (526, 'faggot'),\n",
       " (20, 'kill'),\n",
       " (14, 'yes'),\n",
       " (15, 'whore'),\n",
       " (14, 'bag'),\n",
       " (25, 'another'),\n",
       " (30, 'world'),\n",
       " (122, 'bitch'),\n",
       " (47, 'dick'),\n",
       " (26, 'wiki'),\n",
       " (12, 'let')]"
      ]
     },
     "execution_count": 39,
     "metadata": {},
     "output_type": "execute_result"
    }
   ],
   "source": [
    "keywords[:20]"
   ]
  },
  {
   "cell_type": "code",
   "execution_count": 40,
   "metadata": {},
   "outputs": [
    {
     "data": {
      "text/plain": [
       "[(2540.967395306934, 'huge fat nigger hippo'),\n",
       " (1863.175238148891, 'fucking faggot jew fuck'),\n",
       " (1862.6893557410863, 'big fat faggot'),\n",
       " (1803.475569151506, 'fucking fat ugly cunt'),\n",
       " (1799.3540413737283, 'ugly fat cunt jerk'),\n",
       " (1796.8540413737283, 'ugly fat cunt'),\n",
       " (1795.3540413737283, 'fat spotty cunt'),\n",
       " (1794.6040413737283, 'moms fat cunt'),\n",
       " (1792.3540413737283, 'fat cunt'),\n",
       " (1788.7945410255907, 'cunt nigger faggot'),\n",
       " (1741.5386666666666, 'die muhajirs die muhajirs'),\n",
       " (1531.4176223067175, 'die faggot'),\n",
       " (1484.3359346610298, 'huge faggot regents licks'),\n",
       " (1476.3359346610298, 'huge faggot'),\n",
       " (1320.8580971600559, 'faggot go suck'),\n",
       " (1319.4734817754406, 'suck faggot assholes'),\n",
       " (1319.4734817754406, 'nerd faggot suck'),\n",
       " (1216.5887733887732, 'queer fag jew get'),\n",
       " (1216.308285599437, 'fat bastard !!!!!!!!!!!!!'),\n",
       " (1213.808285599437, 'fat bastard')]"
      ]
     },
     "execution_count": 40,
     "metadata": {},
     "output_type": "execute_result"
    }
   ],
   "source": [
    "top_phrases[:20]"
   ]
  },
  {
   "cell_type": "code",
   "execution_count": null,
   "metadata": {
    "collapsed": true
   },
   "outputs": [],
   "source": []
  }
 ],
 "metadata": {
  "kernelspec": {
   "display_name": "Python 3",
   "language": "python",
   "name": "python3"
  },
  "language_info": {
   "codemirror_mode": {
    "name": "ipython",
    "version": 3
   },
   "file_extension": ".py",
   "mimetype": "text/x-python",
   "name": "python",
   "nbconvert_exporter": "python",
   "pygments_lexer": "ipython3",
   "version": "3.5.4"
  }
 },
 "nbformat": 4,
 "nbformat_minor": 1
}
